{
 "cells": [
  {
   "cell_type": "markdown",
   "metadata": {},
   "source": [
    "# Challenge 1: Find amount of paths in DAG"
   ]
  },
  {
   "cell_type": "code",
   "execution_count": 9,
   "metadata": {},
   "outputs": [],
   "source": [
    "lines = open(\"input.txt\", \"r\").read().split(\"\\n\")"
   ]
  },
  {
   "cell_type": "code",
   "execution_count": 49,
   "metadata": {},
   "outputs": [],
   "source": [
    "class Node:\n",
    "    def __init__(self, name) -> None:\n",
    "        self.name = name\n",
    "        self.children = {}\n",
    "        self.is_big = True if name[0].upper() == name[0] else False\n",
    "\n",
    "    def __repr__(self):\n",
    "        return self.name\n",
    "\n",
    "nodes = {}\n",
    "for line in lines:\n",
    "    if len(line) <= 2:\n",
    "        continue\n",
    "    i, j = line.split(\"-\")\n",
    "    nodes[i] = nodes.get(i, Node(i))\n",
    "    nodes[j] = nodes.get(j, Node(j))\n",
    "    nodes[i].children[j] = nodes[j]\n",
    "    nodes[j].children[i] = nodes[i]"
   ]
  },
  {
   "cell_type": "code",
   "execution_count": 50,
   "metadata": {},
   "outputs": [
    {
     "data": {
      "text/plain": [
       "True"
      ]
     },
     "execution_count": 50,
     "metadata": {},
     "output_type": "execute_result"
    }
   ],
   "source": [
    "nodes[\"MU\"].is_big"
   ]
  },
  {
   "cell_type": "code",
   "execution_count": 51,
   "metadata": {},
   "outputs": [],
   "source": [
    "path = []\n",
    "resulting_paths = set()\n",
    "\n",
    "def return_paths(node, path):\n",
    "    path.append(node.name)\n",
    "    if node.name == \"end\":\n",
    "        resulting_paths.add(tuple(path))\n",
    "        return\n",
    "\n",
    "    for c in node.children.values():\n",
    "        if c.is_big or c.name not in path:\n",
    "            return_paths(c, path.copy())\n",
    "\n",
    "return_paths(nodes[\"start\"], [])"
   ]
  },
  {
   "cell_type": "code",
   "execution_count": 52,
   "metadata": {},
   "outputs": [
    {
     "data": {
      "text/plain": [
       "4749"
      ]
     },
     "execution_count": 52,
     "metadata": {},
     "output_type": "execute_result"
    }
   ],
   "source": [
    "len(resulting_paths)"
   ]
  },
  {
   "cell_type": "markdown",
   "metadata": {},
   "source": [
    "# Challenge 2: a single small cave can be visited twice"
   ]
  },
  {
   "cell_type": "code",
   "execution_count": 56,
   "metadata": {},
   "outputs": [],
   "source": [
    "path = []\n",
    "resulting_paths = set()\n",
    "\n",
    "def return_paths(node, path, small_twice=None):\n",
    "    path.append(node.name)\n",
    "    if node.name == \"end\":\n",
    "        resulting_paths.add(tuple(path))\n",
    "        return\n",
    "\n",
    "    for c in node.children.values():\n",
    "        if c.is_big or c.name not in path:\n",
    "            return_paths(c, path.copy(), small_twice)\n",
    "        elif small_twice is None and c.name != \"start\":\n",
    "            return_paths(c, path.copy(), c.name)\n",
    "            \n",
    "\n",
    "return_paths(nodes[\"start\"], [])"
   ]
  },
  {
   "cell_type": "code",
   "execution_count": 57,
   "metadata": {},
   "outputs": [
    {
     "data": {
      "text/plain": [
       "123054"
      ]
     },
     "execution_count": 57,
     "metadata": {},
     "output_type": "execute_result"
    }
   ],
   "source": [
    "len(resulting_paths)"
   ]
  },
  {
   "cell_type": "code",
   "execution_count": null,
   "metadata": {},
   "outputs": [],
   "source": []
  }
 ],
 "metadata": {
  "interpreter": {
   "hash": "02b53b3e00b8ac7272eaee5b376b05fde5bb7846099be56b25fd032617b840b6"
  },
  "kernelspec": {
   "display_name": "Python 3.9.7 64-bit ('advent': conda)",
   "language": "python",
   "name": "python3"
  },
  "language_info": {
   "codemirror_mode": {
    "name": "ipython",
    "version": 3
   },
   "file_extension": ".py",
   "mimetype": "text/x-python",
   "name": "python",
   "nbconvert_exporter": "python",
   "pygments_lexer": "ipython3",
   "version": "3.9.7"
  },
  "orig_nbformat": 4
 },
 "nbformat": 4,
 "nbformat_minor": 2
}
