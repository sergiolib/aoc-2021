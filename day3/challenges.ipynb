{
 "cells": [
  {
   "cell_type": "markdown",
   "metadata": {},
   "source": [
    "# Calculate power consumption of the submarine"
   ]
  },
  {
   "cell_type": "code",
   "execution_count": 1,
   "metadata": {},
   "outputs": [],
   "source": [
    "lines = open(\"input.txt\").read().split(\"\\n\")"
   ]
  },
  {
   "cell_type": "code",
   "execution_count": 13,
   "metadata": {},
   "outputs": [],
   "source": [
    "def count_ones_per_pos(lines):\n",
    "    results = [0 for _ in lines[0]]\n",
    "    for line in lines:\n",
    "        if len(line) < len(results):\n",
    "            continue\n",
    "        line = list(line)\n",
    "        for pos in range(len(results)):\n",
    "            results[pos] += int(line[pos])\n",
    "    return results"
   ]
  },
  {
   "cell_type": "code",
   "execution_count": 15,
   "metadata": {},
   "outputs": [
    {
     "data": {
      "text/plain": [
       "[511, 497, 496, 506, 504, 519, 487, 488, 499, 520, 503, 499]"
      ]
     },
     "execution_count": 15,
     "metadata": {},
     "output_type": "execute_result"
    }
   ],
   "source": [
    "ones = count_ones_per_pos(lines)\n",
    "ones"
   ]
  },
  {
   "cell_type": "code",
   "execution_count": 20,
   "metadata": {},
   "outputs": [],
   "source": [
    "def most_commons(ones):\n",
    "    result = []\n",
    "    for n in ones:\n",
    "        result.append(int(round(n / len(lines))))\n",
    "    return \"\".join([str(i) for i in result])"
   ]
  },
  {
   "cell_type": "code",
   "execution_count": 23,
   "metadata": {},
   "outputs": [],
   "source": [
    "most_common = most_commons(ones)"
   ]
  },
  {
   "cell_type": "code",
   "execution_count": 24,
   "metadata": {},
   "outputs": [],
   "source": [
    "def least_commons(ones):\n",
    "    result = []\n",
    "    for n in ones:\n",
    "        result.append(1 - int(round(n / len(lines))))\n",
    "    return \"\".join([str(i) for i in result])"
   ]
  },
  {
   "cell_type": "code",
   "execution_count": 31,
   "metadata": {},
   "outputs": [],
   "source": [
    "least_common = least_commons(ones)"
   ]
  },
  {
   "cell_type": "code",
   "execution_count": 32,
   "metadata": {},
   "outputs": [],
   "source": [
    "def bin_to_dec(bin):\n",
    "    result = 0\n",
    "    for i, b in enumerate(reversed(bin)):\n",
    "        result += int(b) * 2**i\n",
    "    return result"
   ]
  },
  {
   "cell_type": "code",
   "execution_count": 35,
   "metadata": {},
   "outputs": [
    {
     "data": {
      "text/plain": [
       "3985686"
      ]
     },
     "execution_count": 35,
     "metadata": {},
     "output_type": "execute_result"
    }
   ],
   "source": [
    "bin_to_dec(least_common) * bin_to_dec(most_common)\n"
   ]
  },
  {
   "cell_type": "markdown",
   "metadata": {},
   "source": [
    "# Challenge 2"
   ]
  },
  {
   "cell_type": "code",
   "execution_count": 36,
   "metadata": {},
   "outputs": [],
   "source": [
    "lines = open(\"input.txt\").read().split(\"\\n\")"
   ]
  },
  {
   "cell_type": "code",
   "execution_count": 55,
   "metadata": {},
   "outputs": [
    {
     "data": {
      "text/plain": [
       "2781"
      ]
     },
     "execution_count": 55,
     "metadata": {},
     "output_type": "execute_result"
    }
   ],
   "source": [
    "def filter_pos(lines, pos, most_common):\n",
    "    count_ones = sum([int(i[pos]) for i in lines]) / len(lines)\n",
    "    if most_common:\n",
    "        digit = 1 if count_ones >= 0.5 else 0\n",
    "    else:\n",
    "        digit = 0 if count_ones >= 0.5 else 1\n",
    "    lines = [l for l in lines if int(l[pos]) == digit]\n",
    "    return lines\n",
    "\n",
    "def get_oxygen(lines):\n",
    "    n = len(lines[0])\n",
    "    result = [l for l in lines if len(l) == n]\n",
    "    for i in range(len(lines[0])):\n",
    "        if len(result) == 1:\n",
    "            break\n",
    "        result = filter_pos(result, i, True)\n",
    "    return bin_to_dec(result[0])\n",
    "\n",
    "get_oxygen(lines)"
   ]
  },
  {
   "cell_type": "code",
   "execution_count": 56,
   "metadata": {},
   "outputs": [
    {
     "data": {
      "text/plain": [
       "919"
      ]
     },
     "execution_count": 56,
     "metadata": {},
     "output_type": "execute_result"
    }
   ],
   "source": [
    "def get_co2(lines):\n",
    "    n = len(lines[0])\n",
    "    result = [l for l in lines if len(l) == n]\n",
    "    for i in range(len(lines[0])):\n",
    "        if len(result) == 1:\n",
    "            break\n",
    "        result = filter_pos(result, i, False)\n",
    "    return bin_to_dec(result[0])\n",
    "\n",
    "get_co2(lines)"
   ]
  },
  {
   "cell_type": "code",
   "execution_count": 57,
   "metadata": {},
   "outputs": [
    {
     "data": {
      "text/plain": [
       "2555739"
      ]
     },
     "execution_count": 57,
     "metadata": {},
     "output_type": "execute_result"
    }
   ],
   "source": [
    "get_co2(lines) * get_oxygen(lines)"
   ]
  },
  {
   "cell_type": "code",
   "execution_count": null,
   "metadata": {},
   "outputs": [],
   "source": []
  }
 ],
 "metadata": {
  "interpreter": {
   "hash": "e7370f93d1d0cde622a1f8e1c04877d8463912d04d973331ad4851f04de6915a"
  },
  "kernelspec": {
   "display_name": "Python 3.9.7 64-bit",
   "language": "python",
   "name": "python3"
  },
  "language_info": {
   "codemirror_mode": {
    "name": "ipython",
    "version": 3
   },
   "file_extension": ".py",
   "mimetype": "text/x-python",
   "name": "python",
   "nbconvert_exporter": "python",
   "pygments_lexer": "ipython3",
   "version": "3.9.7"
  },
  "orig_nbformat": 4
 },
 "nbformat": 4,
 "nbformat_minor": 2
}
