{
 "cells": [
  {
   "cell_type": "markdown",
   "metadata": {},
   "source": [
    "# Challenge 1: Fold the transparent paper"
   ]
  },
  {
   "cell_type": "code",
   "execution_count": 2,
   "metadata": {},
   "outputs": [],
   "source": [
    "lines = open(\"input.txt\", \"r\").read().split(\"\\n\")"
   ]
  },
  {
   "cell_type": "code",
   "execution_count": 28,
   "metadata": {},
   "outputs": [
    {
     "name": "stdout",
     "output_type": "stream",
     "text": [
      "799\n",
      "664\n"
     ]
    }
   ],
   "source": [
    "class Paper:\n",
    "    def __init__(self, lines) -> None:\n",
    "        self.points = self.read_points(lines)\n",
    "        self.instructions = self.read_instructions(lines)\n",
    "\n",
    "    def read_points(self, lines):\n",
    "        # Mx, My = self.read_canvas_size(lines)\n",
    "        points = []\n",
    "        for line in lines:\n",
    "            if len(line) <= 0:\n",
    "                continue\n",
    "            elif len(line) > 4 and line[:4] == \"fold\":\n",
    "                continue\n",
    "            x, y = list(map(int, line.split(\",\")))\n",
    "            points.append((x, y))\n",
    "        return points\n",
    "\n",
    "    def read_instructions(self, lines):\n",
    "        # Mx, My = self.read_canvas_size(lines)\n",
    "        instructions = []\n",
    "        for line in lines:\n",
    "            if len(line) > 4 and line[:4] == \"fold\":\n",
    "                i = line[11:].split(\"=\")\n",
    "                instructions.append((i[0], int(i[1])))\n",
    "        return instructions\n",
    "\n",
    "    def fold(self, n=None):\n",
    "        points = self.points\n",
    "        if n is None:\n",
    "            n = len(self.instructions)\n",
    "        for i in range(n):\n",
    "            points = self._fold(points, self.instructions[i])\n",
    "        return points\n",
    "\n",
    "    def _fold(self, points, instruction):\n",
    "        if instruction[0] == \"y\":\n",
    "            points = self.transpose(points)\n",
    "            points = self._fold_x(points, instruction[1])\n",
    "            points = self.transpose(points)\n",
    "        else:\n",
    "            points = self._fold_x(points, instruction[1])\n",
    "        return points\n",
    "\n",
    "    def transpose(self, points):\n",
    "        new_points = []\n",
    "        for p in points:\n",
    "            new_points.append((p[1], p[0]))\n",
    "        return new_points\n",
    "\n",
    "    def _fold_x(self, points, x):\n",
    "        new_points = set()\n",
    "        for p in points:\n",
    "            if p[0] > x:\n",
    "                new_x = 2 * x - p[0]\n",
    "                if new_x >= 0:\n",
    "                    new_points.add((new_x, p[1]))\n",
    "            else:\n",
    "                new_points.add(p)\n",
    "        return list(new_points)\n",
    "\n",
    "p = Paper(lines)\n",
    "print(len(p.fold(0)))\n",
    "print(len(p.fold(1)))"
   ]
  },
  {
   "cell_type": "markdown",
   "metadata": {},
   "source": [
    "# Challenge 2: find code for activating thermal camera"
   ]
  },
  {
   "cell_type": "code",
   "execution_count": 37,
   "metadata": {},
   "outputs": [
    {
     "name": "stdout",
     "output_type": "stream",
     "text": [
      "■■■■ ■■■■   ■■ ■  ■ ■■■■ ■    ■■■  ■   \n",
      "■    ■       ■ ■ ■     ■ ■    ■  ■ ■   \n",
      "■■■  ■■■     ■ ■■     ■  ■    ■■■  ■   \n",
      "■    ■       ■ ■ ■   ■   ■    ■  ■ ■   \n",
      "■    ■    ■  ■ ■ ■  ■    ■    ■  ■ ■   \n",
      "■■■■ ■     ■■  ■  ■ ■■■■ ■■■■ ■■■  ■■■■\n"
     ]
    }
   ],
   "source": [
    "def plot_points(points):\n",
    "    Mx, My = 0, 0\n",
    "    for p in points:\n",
    "        if p[0] > Mx:\n",
    "            Mx = p[0]\n",
    "        if p[1] > My:\n",
    "            My = p[1]\n",
    "    Mx = Mx + 1\n",
    "    My = My + 1\n",
    "    \n",
    "    canvas = [[\" \" for _ in range(Mx)] for _ in range(My)]\n",
    "\n",
    "    for p in points:\n",
    "        canvas[p[1]][p[0]] = \"■\"\n",
    "    \n",
    "    for i in range(My):\n",
    "        for j in range(Mx):\n",
    "            print(canvas[i][j], end=\"\")\n",
    "        print()\n",
    "\n",
    "plot_points(p.fold())"
   ]
  },
  {
   "cell_type": "code",
   "execution_count": null,
   "metadata": {},
   "outputs": [],
   "source": []
  }
 ],
 "metadata": {
  "interpreter": {
   "hash": "e7370f93d1d0cde622a1f8e1c04877d8463912d04d973331ad4851f04de6915a"
  },
  "kernelspec": {
   "display_name": "Python 3.9.9 64-bit",
   "language": "python",
   "name": "python3"
  },
  "language_info": {
   "codemirror_mode": {
    "name": "ipython",
    "version": 3
   },
   "file_extension": ".py",
   "mimetype": "text/x-python",
   "name": "python",
   "nbconvert_exporter": "python",
   "pygments_lexer": "ipython3",
   "version": "3.9.7"
  },
  "orig_nbformat": 4
 },
 "nbformat": 4,
 "nbformat_minor": 2
}
