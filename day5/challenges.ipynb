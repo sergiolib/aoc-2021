{
 "cells": [
  {
   "cell_type": "markdown",
   "metadata": {},
   "source": [
    "# Count number of intersections of lines greater or equal than 2"
   ]
  },
  {
   "cell_type": "code",
   "execution_count": 13,
   "metadata": {},
   "outputs": [],
   "source": [
    "import math"
   ]
  },
  {
   "cell_type": "code",
   "execution_count": 1,
   "metadata": {},
   "outputs": [
    {
     "data": {
      "text/plain": [
       "['62,963 -> 844,181',\n",
       " '58,85 -> 917,944',\n",
       " '137,76 -> 137,347',\n",
       " '453,125 -> 347,19',\n",
       " '178,65 -> 977,864',\n",
       " '447,360 -> 62,745',\n",
       " '723,326 -> 156,893',\n",
       " '47,497 -> 107,437',\n",
       " '387,491 -> 340,491',\n",
       " '58,477 -> 283,252']"
      ]
     },
     "execution_count": 1,
     "metadata": {},
     "output_type": "execute_result"
    }
   ],
   "source": [
    "lines = open(\"input.txt\", \"r\").read().split(\"\\n\")\n",
    "lines[:10]"
   ]
  },
  {
   "cell_type": "code",
   "execution_count": 16,
   "metadata": {},
   "outputs": [
    {
     "data": {
      "text/plain": [
       "5442"
      ]
     },
     "execution_count": 16,
     "metadata": {},
     "output_type": "execute_result"
    }
   ],
   "source": [
    "class Vents:\n",
    "    def __init__(self, lines, horizontal=True, vertical=True, diagonal=False):\n",
    "        self.lines = self.parse_lines(lines)\n",
    "        self.lines = self.filter_lines(horizontal, vertical, diagonal)\n",
    "        self.board = self.build_board()\n",
    "        self.complete_board()\n",
    "\n",
    "    def parse_lines(self, lines):\n",
    "        parsed_lines = []\n",
    "        for line in lines:\n",
    "            if len(line) <= 0:\n",
    "                continue\n",
    "            points = self.parse_single_line(line)\n",
    "            \n",
    "            parsed_lines.append(points)\n",
    "        return parsed_lines\n",
    "\n",
    "    def parse_single_line(self, line):\n",
    "        tups = line.split(\" \")\n",
    "        a = tups[0].split(\",\")\n",
    "        b = tups[-1].split(\",\")\n",
    "        a = tuple(list(map(int, a)))\n",
    "        b = tuple(list(map(int, b)))\n",
    "        return a, b\n",
    "\n",
    "    def get_board_dimensions(self):\n",
    "        mx, my, Mx, My = 0, 0, 100, 100\n",
    "        for a, b in self.lines:\n",
    "            if a[0] > Mx:\n",
    "                Mx = a[0]\n",
    "            if b[0] > Mx:\n",
    "                Mx = b[0]\n",
    "            if a[1] > My:\n",
    "                My = a[1]\n",
    "            if b[1] > My:\n",
    "                My = b[1]\n",
    "            if a[0] < mx:\n",
    "                mx = a[0]\n",
    "            if b[0] < mx:\n",
    "                mx = b[0]\n",
    "            if a[1] < my:\n",
    "                my = a[1]\n",
    "            if b[1] < my:\n",
    "                my = b[1]\n",
    "        return mx, my, Mx, My\n",
    "\n",
    "    def build_board(self):\n",
    "        mx, my, Mx, My = self.get_board_dimensions()\n",
    "        return [[0 for _ in range(my, My + 1)] for _ in range(mx, Mx + 1)]\n",
    "\n",
    "    def filter_lines(self, horizontal=True, vertical=True, diagonal=True):\n",
    "        lines = []\n",
    "        for a, b in self.lines:\n",
    "            dx = abs(a[0] - b[0])\n",
    "            dy = abs(a[1] - b[1])\n",
    "            if not horizontal and dx == 0:\n",
    "                continue\n",
    "            \n",
    "            if not vertical and dy == 0:\n",
    "                continue\n",
    "\n",
    "            if dx > 0 and dy > 0:\n",
    "                if (diagonal and dx != dy) or not diagonal:\n",
    "                    # Not 45 degrees\n",
    "                    continue\n",
    "\n",
    "            lines.append((a, b))\n",
    "        return lines\n",
    "\n",
    "    def complete_board(self):\n",
    "        for a, b in self.lines:\n",
    "            dx = b[0] - a[0]\n",
    "            sdx = int(math.copysign(1, dx) if dx != 0 else 0)\n",
    "            dy = b[1] - a[1]\n",
    "            sdy = int(math.copysign(1, dy) if dy != 0 else 0)\n",
    "            x, y = a[0], a[1]\n",
    "            for _ in range(max(abs(dx), abs(dy)) + 1):\n",
    "                self.board[x][y] += 1\n",
    "                x += sdx\n",
    "                y += sdy\n",
    "\n",
    "    def count_geq_than(self, n=2):\n",
    "        count = 0\n",
    "        for row in self.board:\n",
    "            for r in row:\n",
    "                if r >= n:\n",
    "                    count += 1\n",
    "        return count\n",
    "            \n",
    "\n",
    "v = Vents(lines)\n",
    "v.count_geq_than(2)\n"
   ]
  },
  {
   "cell_type": "markdown",
   "metadata": {},
   "source": [
    "# Challenge 2: consider diagonals of only 45 degrees"
   ]
  },
  {
   "cell_type": "code",
   "execution_count": 17,
   "metadata": {},
   "outputs": [
    {
     "data": {
      "text/plain": [
       "19571"
      ]
     },
     "execution_count": 17,
     "metadata": {},
     "output_type": "execute_result"
    }
   ],
   "source": [
    "v = Vents(lines, diagonal=True)\n",
    "v.count_geq_than(2)"
   ]
  },
  {
   "cell_type": "code",
   "execution_count": null,
   "metadata": {},
   "outputs": [],
   "source": []
  }
 ],
 "metadata": {
  "interpreter": {
   "hash": "e7370f93d1d0cde622a1f8e1c04877d8463912d04d973331ad4851f04de6915a"
  },
  "kernelspec": {
   "display_name": "Python 3.9.7 64-bit",
   "language": "python",
   "name": "python3"
  },
  "language_info": {
   "codemirror_mode": {
    "name": "ipython",
    "version": 3
   },
   "file_extension": ".py",
   "mimetype": "text/x-python",
   "name": "python",
   "nbconvert_exporter": "python",
   "pygments_lexer": "ipython3",
   "version": "3.9.7"
  },
  "orig_nbformat": 4
 },
 "nbformat": 4,
 "nbformat_minor": 2
}
