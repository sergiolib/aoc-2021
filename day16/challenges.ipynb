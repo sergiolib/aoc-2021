{
 "cells": [
  {
   "cell_type": "markdown",
   "metadata": {},
   "source": [
    "# Challenge 1: parse packets and sum all version numbers"
   ]
  },
  {
   "cell_type": "code",
   "execution_count": 1,
   "metadata": {},
   "outputs": [],
   "source": [
    "input_string = int(open(\"input.txt\").read(), 16)"
   ]
  },
  {
   "cell_type": "code",
   "execution_count": 2,
   "metadata": {},
   "outputs": [
    {
     "data": {
      "text/plain": [
       "929"
      ]
     },
     "execution_count": 2,
     "metadata": {},
     "output_type": "execute_result"
    }
   ],
   "source": [
    "def sum_version_numbers(s):\n",
    "    if all([i == \"0\" for i in s]):\n",
    "        return 0\n",
    "    version = int(s[:3], 2)\n",
    "    type = int(s[3:6], 2)\n",
    "    l = 6\n",
    "    if type == 4:\n",
    "        while s[l] == \"1\":\n",
    "            l += 5\n",
    "        return version + sum_version_numbers(s[l + 5:])\n",
    "    else:\n",
    "        lti = int(s[6])\n",
    "        if lti == 0:\n",
    "            return version + sum_version_numbers(s[22:])\n",
    "        else:\n",
    "            return version + sum_version_numbers(s[18:])\n",
    "\n",
    "\n",
    "inp = bin(input_string)[2:]\n",
    "while (len(inp) % 4) != 0:\n",
    "    inp = \"0\" + inp \n",
    "sum_version_numbers(inp)"
   ]
  },
  {
   "cell_type": "markdown",
   "metadata": {},
   "source": [
    "# Challenge 2: perform operations"
   ]
  },
  {
   "cell_type": "code",
   "execution_count": 62,
   "metadata": {},
   "outputs": [
    {
     "data": {
      "text/plain": [
       "(911945136934, 5249)"
      ]
     },
     "execution_count": 62,
     "metadata": {},
     "output_type": "execute_result"
    }
   ],
   "source": [
    "def perform_operations(s):\n",
    "    type = int(s[3:6], 2)\n",
    "    l = 6\n",
    "    if type == 4:\n",
    "        value = \"\"\n",
    "        while s[l] == \"1\":\n",
    "            value += s[l+1:l+5]\n",
    "            l += 5\n",
    "        value = int(value + s[l+1:l+5], 2)\n",
    "        return value, l+5\n",
    "    else:\n",
    "        lti = int(s[6])\n",
    "        if lti == 0:\n",
    "            length = int(s[7:22], 2) + 22\n",
    "            values = []\n",
    "            l = 22\n",
    "            while l < length:\n",
    "                val, ll = perform_operations(s[l:])\n",
    "                l += ll\n",
    "                values.append(val)\n",
    "        else:\n",
    "            count = int(s[7:18], 2)\n",
    "            values = []\n",
    "            l = 18\n",
    "            for _ in range(count):\n",
    "                val, ll = perform_operations(s[l:])\n",
    "                l += ll\n",
    "                values.append(val)\n",
    "        if type == 0:\n",
    "            return sum(values), l\n",
    "        elif type == 1:\n",
    "            m = 1\n",
    "            for v in values:\n",
    "                m *= v\n",
    "            return m, l\n",
    "        elif type == 2:\n",
    "            return min(values), l\n",
    "        elif type == 3:\n",
    "            return max(values), l\n",
    "        elif type == 5:\n",
    "            return int(values[0] > values[1]), l\n",
    "        elif type == 6:\n",
    "            return int(values[0] < values[1]), l\n",
    "        elif type == 7:\n",
    "            return int(all([v == values[0] for v in values[1:]])), l\n",
    "\n",
    "\n",
    "input_length = len(input_string) - 2\n",
    "\n",
    "inp = bin(int(input_string, 16))[2:].zfill(input_length * 4)\n",
    "\n",
    "perform_operations(inp)"
   ]
  },
  {
   "cell_type": "code",
   "execution_count": null,
   "metadata": {},
   "outputs": [],
   "source": []
  }
 ],
 "metadata": {
  "interpreter": {
   "hash": "02b53b3e00b8ac7272eaee5b376b05fde5bb7846099be56b25fd032617b840b6"
  },
  "kernelspec": {
   "display_name": "Python 3.9.7 64-bit ('advent': conda)",
   "language": "python",
   "name": "python3"
  },
  "language_info": {
   "codemirror_mode": {
    "name": "ipython",
    "version": 3
   },
   "file_extension": ".py",
   "mimetype": "text/x-python",
   "name": "python",
   "nbconvert_exporter": "python",
   "pygments_lexer": "ipython3",
   "version": "3.9.7"
  },
  "orig_nbformat": 4
 },
 "nbformat": 4,
 "nbformat_minor": 2
}
