{
 "cells": [
  {
   "cell_type": "markdown",
   "metadata": {},
   "source": [
    "# Challenge 1: find lowest risk path from top left to bottom right"
   ]
  },
  {
   "cell_type": "code",
   "execution_count": 127,
   "metadata": {},
   "outputs": [],
   "source": [
    "lines = open(\"input.txt\", \"r\").read().split(\"\\n\")\n",
    "lines = [l for l in lines if len(l) > 0]\n"
   ]
  },
  {
   "cell_type": "code",
   "execution_count": 128,
   "metadata": {},
   "outputs": [],
   "source": [
    "import heapq"
   ]
  },
  {
   "cell_type": "code",
   "execution_count": 138,
   "metadata": {},
   "outputs": [
    {
     "data": {
      "text/plain": [
       "435"
      ]
     },
     "execution_count": 138,
     "metadata": {},
     "output_type": "execute_result"
    }
   ],
   "source": [
    "class PriorityList:\n",
    "    def __init__(self) -> None:\n",
    "        self.list = []\n",
    "        self.in_heap = {}\n",
    "\n",
    "    def append(self, elem):\n",
    "        id_elem = elem[2]\n",
    "        if id_elem in self.in_heap:\n",
    "            poppable = self.in_heap[id_elem]\n",
    "            if elem[0] >= poppable[0]:\n",
    "                return\n",
    "            self.list.remove(poppable)\n",
    "        heapq.heappush(self.list, elem)\n",
    "        self.in_heap[id_elem] = elem\n",
    "\n",
    "    def pop(self):\n",
    "        popped = heapq.heappop(self.list)\n",
    "        del self.in_heap[popped[2]]\n",
    "        return popped\n",
    "\n",
    "    def __repr__(self) -> str:\n",
    "        return self.list.__repr__()\n",
    "\n",
    "class Cave:\n",
    "    def __init__(self, lines):\n",
    "        self.cave = self.read_lines(lines)\n",
    "        self.end_pos = (len(self.cave) - 1, len(self.cave[0]) - 1)\n",
    "        self.priority_list = PriorityList()\n",
    "\n",
    "    def read_lines(self, lines):\n",
    "        read_lines = []\n",
    "        for line in lines:\n",
    "            if len(line) == 0:\n",
    "                continue\n",
    "            read_lines.append(line)\n",
    "        return read_lines\n",
    "\n",
    "    def find_shortest_path(self):\n",
    "        self.priority_list.append((0, None, (0, 0)))\n",
    "        done = {}\n",
    "\n",
    "        while True:\n",
    "            elem = self.priority_list.pop()\n",
    "            if elem[2] == self.end_pos:\n",
    "                return elem\n",
    "            \n",
    "            for a, b in [(1, 0), (0, 1), (-1, 0), (0, -1)]:\n",
    "                pt_a, pt_b = elem[2][0] + a, elem[2][1] + b\n",
    "\n",
    "                if done.get((pt_a, pt_b), False):\n",
    "                    continue\n",
    "\n",
    "                try:\n",
    "                    node_value = int(self.cave[pt_a][pt_b])\n",
    "                except IndexError:\n",
    "                    continue\n",
    "                path_cost = elem[0] + node_value\n",
    "                tup = (path_cost, elem[2], (pt_a, pt_b))\n",
    "                self.priority_list.append(tup)\n",
    "\n",
    "            done[elem[2]] = True\n",
    "\n",
    "cave = Cave(lines)\n",
    "end_node = cave.find_shortest_path()\n",
    "end_node[0]"
   ]
  },
  {
   "cell_type": "markdown",
   "metadata": {},
   "source": [
    "# Challenge 2: find lowest risk path from top left to bottom right in a bigger map"
   ]
  },
  {
   "cell_type": "code",
   "execution_count": 140,
   "metadata": {},
   "outputs": [
    {
     "data": {
      "text/plain": [
       "2842"
      ]
     },
     "execution_count": 140,
     "metadata": {},
     "output_type": "execute_result"
    }
   ],
   "source": [
    "class Cave2(Cave):\n",
    "    def read_lines(self, lines):\n",
    "        cave = []\n",
    "        for j in range(5):\n",
    "            for line in lines:\n",
    "                actual_line = \"\"\n",
    "                for i in range(5):\n",
    "                    shifted = [(((int(c) + i + j - 1) % 9) + 1) for c in line]\n",
    "                    actual_line += \"\".join(map(str, shifted))\n",
    "                cave.append(actual_line)\n",
    "\n",
    "        return cave\n",
    "\n",
    "cave = Cave2(lines)\n",
    "end_node = cave.find_shortest_path()\n",
    "end_node[0]"
   ]
  },
  {
   "cell_type": "code",
   "execution_count": null,
   "metadata": {},
   "outputs": [],
   "source": []
  }
 ],
 "metadata": {
  "interpreter": {
   "hash": "a24118f1c693b3d2ee35488f84244bb91ecd747156a883a6ed9d4501fda53f5c"
  },
  "kernelspec": {
   "display_name": "Python 3.9.7 64-bit ('advent': conda)",
   "language": "python",
   "name": "python3"
  },
  "language_info": {
   "codemirror_mode": {
    "name": "ipython",
    "version": 3
   },
   "file_extension": ".py",
   "mimetype": "text/x-python",
   "name": "python",
   "nbconvert_exporter": "python",
   "pygments_lexer": "ipython3",
   "version": "3.9.7"
  },
  "orig_nbformat": 4
 },
 "nbformat": 4,
 "nbformat_minor": 2
}
