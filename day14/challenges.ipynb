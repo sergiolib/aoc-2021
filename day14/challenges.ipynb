{
 "cells": [
  {
   "cell_type": "markdown",
   "metadata": {},
   "source": [
    "# Challenge 1: calculate polymerization for 10 steps "
   ]
  },
  {
   "cell_type": "code",
   "execution_count": 41,
   "metadata": {},
   "outputs": [],
   "source": [
    "lines = open(\"input.txt\", \"r\").read().split(\"\\n\")"
   ]
  },
  {
   "cell_type": "code",
   "execution_count": 81,
   "metadata": {},
   "outputs": [
    {
     "data": {
      "text/plain": [
       "{'P': 1057,\n",
       " 'B': 3802,\n",
       " 'C': 1281,\n",
       " 'O': 1774,\n",
       " 'K': 1624,\n",
       " 'V': 2396,\n",
       " 'H': 1514,\n",
       " 'S': 1511,\n",
       " 'F': 2834,\n",
       " 'N': 1664}"
      ]
     },
     "execution_count": 81,
     "metadata": {},
     "output_type": "execute_result"
    }
   ],
   "source": [
    "class Polymerize:\n",
    "    def __init__(self, lines) -> None:\n",
    "        self.rules = self.load_rules(lines[2:])\n",
    "\n",
    "    def load_rules(self, lines):\n",
    "        rules = {}\n",
    "        for line in lines:\n",
    "            if len(line) <= 0:\n",
    "                continue\n",
    "            a, b = line[:2]\n",
    "            insert = line[-1]\n",
    "            rules[(a, b)] = insert\n",
    "        return rules\n",
    "\n",
    "    def count(self, polymer, steps=0):\n",
    "        pair_counts = {}\n",
    "        for a, b in zip(polymer[:-1], polymer[1:]):\n",
    "            pair_counts[(a, b)] = pair_counts.get((a, b), 0) + 1\n",
    "\n",
    "        for _ in range(steps):\n",
    "            current_pair_counts = {}\n",
    "            for a, b in pair_counts.keys():\n",
    "                c = self.rules[(a, b)]\n",
    "                current_pair_counts[(a, c)] = current_pair_counts.get((a, c), 0) + pair_counts[(a, b)]\n",
    "                current_pair_counts[(c, b)] = current_pair_counts.get((c, b), 0) + pair_counts[(a, b)]\n",
    "            pair_counts = current_pair_counts\n",
    "\n",
    "        # Count single letters\n",
    "        lefties = {}\n",
    "        righties = {}\n",
    "        for a, b in pair_counts:\n",
    "            lefties[a] = lefties.get(a, 0) + pair_counts[(a, b)]\n",
    "            righties[b] = righties.get(b, 0) + pair_counts[(a, b)]\n",
    "        singles = {x: max(lefties[x], righties[x]) for x in set(lefties) | set(righties)}\n",
    "\n",
    "        return singles\n",
    "\n",
    "\n",
    "p = Polymerize(lines)\n",
    "polymer = lines[0]\n",
    "\n",
    "counts = p.count(polymer, steps=10)\n",
    "counts"
   ]
  },
  {
   "cell_type": "code",
   "execution_count": 82,
   "metadata": {},
   "outputs": [
    {
     "data": {
      "text/plain": [
       "2745"
      ]
     },
     "execution_count": 82,
     "metadata": {},
     "output_type": "execute_result"
    }
   ],
   "source": [
    "max(counts.values()) - min(counts.values())"
   ]
  },
  {
   "cell_type": "markdown",
   "metadata": {},
   "source": [
    "# Challenge 2: for 40 steps"
   ]
  },
  {
   "cell_type": "code",
   "execution_count": 83,
   "metadata": {},
   "outputs": [
    {
     "data": {
      "text/plain": [
       "3420801168962"
      ]
     },
     "execution_count": 83,
     "metadata": {},
     "output_type": "execute_result"
    }
   ],
   "source": [
    "p = Polymerize(lines)\n",
    "polymer = lines[0]\n",
    "\n",
    "counts = p.count(polymer, steps=40)\n",
    "max(counts.values()) - min(counts.values())"
   ]
  }
 ],
 "metadata": {
  "interpreter": {
   "hash": "a24118f1c693b3d2ee35488f84244bb91ecd747156a883a6ed9d4501fda53f5c"
  },
  "kernelspec": {
   "display_name": "Python 3.9.7 64-bit ('advent': conda)",
   "language": "python",
   "name": "python3"
  },
  "language_info": {
   "codemirror_mode": {
    "name": "ipython",
    "version": 3
   },
   "file_extension": ".py",
   "mimetype": "text/x-python",
   "name": "python",
   "nbconvert_exporter": "python",
   "pygments_lexer": "ipython3",
   "version": "3.9.7"
  },
  "orig_nbformat": 4
 },
 "nbformat": 4,
 "nbformat_minor": 2
}
