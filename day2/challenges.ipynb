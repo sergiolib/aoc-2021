{
 "cells": [
  {
   "cell_type": "markdown",
   "metadata": {},
   "source": [
    "# Find final product of the position"
   ]
  },
  {
   "cell_type": "code",
   "execution_count": 1,
   "metadata": {},
   "outputs": [],
   "source": [
    "class Position:\n",
    "    def __init__(self) -> None:\n",
    "        self.h_pos = 0\n",
    "        self.v_pos = 0\n",
    "\n",
    "    def forward(self, x):\n",
    "        self.h_pos += x\n",
    "\n",
    "    def down(self, x):\n",
    "        self.v_pos += x\n",
    "\n",
    "    def up(self, x):\n",
    "        self.v_pos -= x\n",
    "\n",
    "    def get_multiply(self):\n",
    "        return self.v_pos * self.h_pos"
   ]
  },
  {
   "cell_type": "code",
   "execution_count": 6,
   "metadata": {},
   "outputs": [],
   "source": [
    "lines = open(\"input.txt\").read().split(\"\\n\")"
   ]
  },
  {
   "cell_type": "code",
   "execution_count": 11,
   "metadata": {},
   "outputs": [],
   "source": [
    "pos = Position()\n",
    "for line in lines:\n",
    "    try:\n",
    "        command, steps = line.split(\" \")\n",
    "        steps = int(steps)\n",
    "        if command == \"forward\":\n",
    "            pos.forward(steps)\n",
    "        elif command == \"up\":\n",
    "            pos.up(steps)\n",
    "        elif command == \"down\":\n",
    "            pos.down(steps)\n",
    "        else:\n",
    "            raise ValueError()\n",
    "    except:\n",
    "        pass"
   ]
  },
  {
   "cell_type": "code",
   "execution_count": 12,
   "metadata": {},
   "outputs": [
    {
     "data": {
      "text/plain": [
       "2117664"
      ]
     },
     "execution_count": 12,
     "metadata": {},
     "output_type": "execute_result"
    }
   ],
   "source": [
    "pos.get_multiply()"
   ]
  },
  {
   "cell_type": "markdown",
   "metadata": {},
   "source": [
    "# "
   ]
  },
  {
   "cell_type": "code",
   "execution_count": 36,
   "metadata": {},
   "outputs": [],
   "source": [
    "class Position:\n",
    "    def __init__(self) -> None:\n",
    "        self.h_pos = 0\n",
    "        self.v_pos = 0\n",
    "        self.aim = 0\n",
    "\n",
    "    def forward(self, x):\n",
    "        self.h_pos += x\n",
    "        self.v_pos += self.aim * x\n",
    "\n",
    "    def down(self, x):\n",
    "        #self.v_pos += x\n",
    "        self.aim += x\n",
    "\n",
    "    def up(self, x):\n",
    "        #self.v_pos -= x\n",
    "        self.aim -= x\n",
    "\n",
    "    def get_multiply(self):\n",
    "        return self.v_pos * self.h_pos"
   ]
  },
  {
   "cell_type": "code",
   "execution_count": 37,
   "metadata": {},
   "outputs": [],
   "source": [
    "lines = open(\"input.txt\").read().split(\"\\n\")"
   ]
  },
  {
   "cell_type": "code",
   "execution_count": 38,
   "metadata": {},
   "outputs": [],
   "source": [
    "pos = Position()\n",
    "for line in lines:\n",
    "    try:\n",
    "        command, steps = line.split(\" \")\n",
    "        steps = int(steps)\n",
    "        if command == \"forward\":\n",
    "            pos.forward(steps)\n",
    "        elif command == \"up\":\n",
    "            pos.up(steps)\n",
    "        elif command == \"down\":\n",
    "            pos.down(steps)\n",
    "        else:\n",
    "            raise ValueError()\n",
    "    except:\n",
    "        pass"
   ]
  },
  {
   "cell_type": "code",
   "execution_count": 39,
   "metadata": {},
   "outputs": [
    {
     "data": {
      "text/plain": [
       "2073416724"
      ]
     },
     "execution_count": 39,
     "metadata": {},
     "output_type": "execute_result"
    }
   ],
   "source": [
    "pos.get_multiply()"
   ]
  },
  {
   "cell_type": "code",
   "execution_count": null,
   "metadata": {},
   "outputs": [],
   "source": []
  }
 ],
 "metadata": {
  "interpreter": {
   "hash": "e7370f93d1d0cde622a1f8e1c04877d8463912d04d973331ad4851f04de6915a"
  },
  "kernelspec": {
   "display_name": "Python 3.9.7 64-bit",
   "language": "python",
   "name": "python3"
  },
  "language_info": {
   "codemirror_mode": {
    "name": "ipython",
    "version": 3
   },
   "file_extension": ".py",
   "mimetype": "text/x-python",
   "name": "python",
   "nbconvert_exporter": "python",
   "pygments_lexer": "ipython3",
   "version": "3.9.7"
  },
  "orig_nbformat": 4
 },
 "nbformat": 4,
 "nbformat_minor": 2
}
