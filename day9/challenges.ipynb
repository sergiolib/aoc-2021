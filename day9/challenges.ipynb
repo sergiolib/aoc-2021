{
 "cells": [
  {
   "cell_type": "markdown",
   "metadata": {},
   "source": [
    "# Find low points in a heightmap"
   ]
  },
  {
   "cell_type": "code",
   "execution_count": 1,
   "metadata": {},
   "outputs": [],
   "source": [
    "def get_input():\n",
    "    lines = open(\"input.txt\", \"r\").read().split(\"\\n\")\n",
    "    cave = []\n",
    "    for l in lines:\n",
    "        if len(l) > 4:\n",
    "            cave.append([int(i) for i in l])\n",
    "    # Add padding\n",
    "    for l in cave:\n",
    "        l.insert(0, 9)\n",
    "        l.append(9)\n",
    "    pad_lines = [9 for i in range(len(cave[0]))]\n",
    "    cave.insert(0, pad_lines)\n",
    "    cave.append(pad_lines)\n",
    "    return cave\n",
    "\n",
    "input = get_input()\n",
    "nx = len(input)\n",
    "ny = len(input[0])"
   ]
  },
  {
   "cell_type": "code",
   "execution_count": 2,
   "metadata": {},
   "outputs": [
    {
     "data": {
      "text/plain": [
       "False"
      ]
     },
     "execution_count": 2,
     "metadata": {},
     "output_type": "execute_result"
    }
   ],
   "source": [
    "class Point:\n",
    "    def __init__(self, x, y) -> None:\n",
    "        self.x = x\n",
    "        self.y = y\n",
    "\n",
    "    @property\n",
    "    def h(self):\n",
    "        return input[self.x][self.y]\n",
    "\n",
    "    def __eq__(self, __o: object) -> bool:\n",
    "        return self.x == __o.x and self.y == __o.y\n",
    "\n",
    "    def __repr__(self) -> str:\n",
    "        return f\"({self.x}, {self.y})\"\n",
    "\n",
    "    def __hash__(self) -> int:\n",
    "        return self.x * ny + self.y\n",
    "\n",
    "    def is_low(self):\n",
    "        possibilities = [(self.x + 1, self.y), (self.x, self.y + 1), (self.x - 1, self.y), (self.x, self.y - 1)]\n",
    "        for x, y in possibilities:\n",
    "            h = Point(x, y).h\n",
    "            if h <= self.h:\n",
    "                return False\n",
    "        return True\n",
    "\n",
    "p = Point(0, 0)\n",
    "p.is_low()"
   ]
  },
  {
   "cell_type": "code",
   "execution_count": 3,
   "metadata": {},
   "outputs": [],
   "source": [
    "def sum_risk_levels(points):\n",
    "    s = 0\n",
    "    for p in points:\n",
    "        s += (p.h + 1)\n",
    "    return s"
   ]
  },
  {
   "cell_type": "code",
   "execution_count": 16,
   "metadata": {},
   "outputs": [
    {
     "data": {
      "text/plain": [
       "539"
      ]
     },
     "execution_count": 16,
     "metadata": {},
     "output_type": "execute_result"
    }
   ],
   "source": [
    "def solve():\n",
    "    points = [Point(x, y) for x in range(1, nx - 1) for y in range(1, ny - 1)]\n",
    "    result = list()\n",
    "    for p in points:\n",
    "        if p.is_low():\n",
    "            result.append(p)\n",
    "    return result\n",
    "\n",
    "\n",
    "min_points = solve()\n",
    "\n",
    "sum_risk_levels(min_points)"
   ]
  },
  {
   "cell_type": "markdown",
   "metadata": {},
   "source": [
    "# Challenge 2: find basins"
   ]
  },
  {
   "cell_type": "code",
   "execution_count": 32,
   "metadata": {},
   "outputs": [],
   "source": [
    "def find_points(cp, points):\n",
    "    for x, y in [(cp.x + 1, cp.y), (cp.x - 1, cp.y), (cp.x, cp.y + 1), (cp.x, cp.y - 1)]:\n",
    "        p = Point(x, y)\n",
    "        if p not in points and cp.h <= p.h < 9:\n",
    "            points.append(p)\n",
    "            find_points(p, points)\n",
    "    return points\n",
    "\n",
    "basins = []\n",
    "for m in min_points:\n",
    "    basin = sorted(find_points(m, []), key=lambda x: x.x * ny + x.y)\n",
    "    basin.append(m)\n",
    "    basins.append(len(basin))"
   ]
  },
  {
   "cell_type": "code",
   "execution_count": 39,
   "metadata": {},
   "outputs": [
    {
     "data": {
      "text/plain": [
       "736920"
      ]
     },
     "execution_count": 39,
     "metadata": {},
     "output_type": "execute_result"
    }
   ],
   "source": [
    "p = 1\n",
    "for m in sorted(basins)[:-4:-1]:\n",
    "    p *= m\n",
    "p\n"
   ]
  }
 ],
 "metadata": {
  "interpreter": {
   "hash": "e7370f93d1d0cde622a1f8e1c04877d8463912d04d973331ad4851f04de6915a"
  },
  "kernelspec": {
   "display_name": "Python 3.9.7 64-bit",
   "language": "python",
   "name": "python3"
  },
  "language_info": {
   "codemirror_mode": {
    "name": "ipython",
    "version": 3
   },
   "file_extension": ".py",
   "mimetype": "text/x-python",
   "name": "python",
   "nbconvert_exporter": "python",
   "pygments_lexer": "ipython3",
   "version": "3.9.7"
  },
  "orig_nbformat": 4
 },
 "nbformat": 4,
 "nbformat_minor": 2
}
