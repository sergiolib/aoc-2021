{
 "cells": [
  {
   "cell_type": "markdown",
   "metadata": {},
   "source": [
    "# Challenge 1: calculate score of the **first** bingo board to win"
   ]
  },
  {
   "cell_type": "code",
   "execution_count": 1,
   "metadata": {},
   "outputs": [],
   "source": [
    "lines = open(\"input.txt\", \"r\").read().split(\"\\n\")"
   ]
  },
  {
   "cell_type": "code",
   "execution_count": 2,
   "metadata": {},
   "outputs": [],
   "source": [
    "numbers = list(map(int, lines[0].split(\",\")))"
   ]
  },
  {
   "cell_type": "code",
   "execution_count": 3,
   "metadata": {},
   "outputs": [],
   "source": [
    "def is_bingo_line(line):\n",
    "    n = len(line)\n",
    "    if n == 0:\n",
    "        return False\n",
    "    return True"
   ]
  },
  {
   "cell_type": "code",
   "execution_count": 4,
   "metadata": {},
   "outputs": [],
   "source": [
    "boards = []\n",
    "board = []\n",
    "for line in lines[2:]:\n",
    "    if is_bingo_line(line):\n",
    "        board.append(list(map(int, line.split())))\n",
    "    else:\n",
    "        boards.append(board)\n",
    "        board = []\n",
    "        continue"
   ]
  },
  {
   "cell_type": "code",
   "execution_count": 11,
   "metadata": {},
   "outputs": [
    {
     "name": "stdout",
     "output_type": "stream",
     "text": [
      "16716\n"
     ]
    }
   ],
   "source": [
    "class Bingo:\n",
    "    def __init__(self, boards):\n",
    "        self.boards = boards\n",
    "        self.numbers = list()\n",
    "        self.bingo = [False for _ in range(len(boards))]\n",
    "        self.bingo_order = []\n",
    "\n",
    "    def add_number(self, number):\n",
    "        self.numbers.append(number)\n",
    "        is_bingo = self.check_bingo()\n",
    "        return is_bingo\n",
    "\n",
    "    def check_bingo(self):\n",
    "        any_bingo = False\n",
    "        for i, board in enumerate(self.boards):\n",
    "            is_bingo = False\n",
    "            for row in board:\n",
    "                is_bingo = self.check_line(row)\n",
    "                if is_bingo:\n",
    "                    self.add_maybe_to_bingo_order(i)\n",
    "                    break\n",
    "            if not is_bingo:\n",
    "                for ic in range(5):\n",
    "                    col = [r[ic] for r in board]\n",
    "                    is_bingo = self.check_line(col)\n",
    "                    if is_bingo:\n",
    "                        self.add_maybe_to_bingo_order(i)\n",
    "                        break\n",
    "            self.bingo[i] = is_bingo\n",
    "            if not any_bingo and is_bingo:\n",
    "                any_bingo = True\n",
    "        return any_bingo\n",
    "\n",
    "    def add_maybe_to_bingo_order(self, board_n):\n",
    "        if board_n in self.bingo_order:\n",
    "            return\n",
    "        self.bingo_order.append(board_n)\n",
    "\n",
    "    def check_line(self, line):\n",
    "        for number in line:\n",
    "            if number not in self.numbers:\n",
    "                return False\n",
    "        return True\n",
    "\n",
    "    def score(self, board_n):\n",
    "        if not self.bingo[board_n]:\n",
    "            raise Exception(\"Algorithm wrong\")\n",
    "        board = self.boards[board_n]\n",
    "        # Sum of unmarked numbers\n",
    "        unmarked_sum = 0\n",
    "        for row in board:\n",
    "            for elem in row:\n",
    "                if elem not in self.numbers:\n",
    "                    unmarked_sum += elem\n",
    "        return unmarked_sum * self.numbers[-1]\n",
    "\n",
    "b = Bingo(boards)\n",
    "for n in numbers:\n",
    "    is_bingo = b.add_number(n)\n",
    "    if any(b.bingo):\n",
    "        break\n",
    "print(b.score(b.bingo_order[0]))"
   ]
  },
  {
   "cell_type": "markdown",
   "metadata": {},
   "source": [
    "# Challenge 2: calculate score of the **last** bingo board to win"
   ]
  },
  {
   "cell_type": "code",
   "execution_count": 10,
   "metadata": {},
   "outputs": [
    {
     "name": "stdout",
     "output_type": "stream",
     "text": [
      "4880\n"
     ]
    }
   ],
   "source": [
    "class Bingo:\n",
    "    def __init__(self, boards):\n",
    "        self.boards = boards\n",
    "        self.numbers = list()\n",
    "        self.bingo = [False for _ in range(len(boards))]\n",
    "        self.bingo_order = []\n",
    "\n",
    "    def add_number(self, number):\n",
    "        self.numbers.append(number)\n",
    "        is_bingo = self.check_bingo()\n",
    "        return is_bingo\n",
    "\n",
    "    def check_bingo(self):\n",
    "        any_bingo = False\n",
    "        for i, board in enumerate(self.boards):\n",
    "            is_bingo = False\n",
    "            for row in board:\n",
    "                is_bingo = self.check_line(row)\n",
    "                if is_bingo:\n",
    "                    self.add_maybe_to_bingo_order(i)\n",
    "                    break\n",
    "            if not is_bingo:\n",
    "                for ic in range(5):\n",
    "                    col = [r[ic] for r in board]\n",
    "                    is_bingo = self.check_line(col)\n",
    "                    if is_bingo:\n",
    "                        self.add_maybe_to_bingo_order(i)\n",
    "                        break\n",
    "            self.bingo[i] = is_bingo\n",
    "            if not any_bingo and is_bingo:\n",
    "                any_bingo = True\n",
    "        return any_bingo\n",
    "\n",
    "    def add_maybe_to_bingo_order(self, board_n):\n",
    "        if board_n in self.bingo_order:\n",
    "            return\n",
    "        self.bingo_order.append(board_n)\n",
    "\n",
    "    def check_line(self, line):\n",
    "        for number in line:\n",
    "            if number not in self.numbers:\n",
    "                return False\n",
    "        return True\n",
    "\n",
    "    def score(self, board_n):\n",
    "        if not self.bingo[board_n]:\n",
    "            raise Exception(\"Algorithm wrong\")\n",
    "        board = self.boards[board_n]\n",
    "        # Sum of unmarked numbers\n",
    "        unmarked_sum = 0\n",
    "        for row in board:\n",
    "            for elem in row:\n",
    "                if elem not in self.numbers:\n",
    "                    unmarked_sum += elem\n",
    "        return unmarked_sum * self.numbers[-1]\n",
    "\n",
    "b = Bingo(boards)\n",
    "for n in numbers:\n",
    "    is_bingo = b.add_number(n)\n",
    "    if all(b.bingo):\n",
    "        break\n",
    "print(b.score(b.bingo_order[-1]))"
   ]
  },
  {
   "cell_type": "code",
   "execution_count": null,
   "metadata": {},
   "outputs": [],
   "source": []
  }
 ],
 "metadata": {
  "interpreter": {
   "hash": "e7370f93d1d0cde622a1f8e1c04877d8463912d04d973331ad4851f04de6915a"
  },
  "kernelspec": {
   "display_name": "Python 3.9.7 64-bit",
   "language": "python",
   "name": "python3"
  },
  "language_info": {
   "codemirror_mode": {
    "name": "ipython",
    "version": 3
   },
   "file_extension": ".py",
   "mimetype": "text/x-python",
   "name": "python",
   "nbconvert_exporter": "python",
   "pygments_lexer": "ipython3",
   "version": "3.9.7"
  },
  "orig_nbformat": 4
 },
 "nbformat": 4,
 "nbformat_minor": 2
}
