{
 "cells": [
  {
   "cell_type": "markdown",
   "metadata": {},
   "source": [
    "# Challenge 1: find number of explosions after 100 iterations"
   ]
  },
  {
   "cell_type": "code",
   "execution_count": 10,
   "metadata": {},
   "outputs": [],
   "source": [
    "from copy import deepcopy"
   ]
  },
  {
   "cell_type": "code",
   "execution_count": 11,
   "metadata": {},
   "outputs": [],
   "source": [
    "lines = open(\"input.txt\", \"r\").read().split(\"\\n\")"
   ]
  },
  {
   "cell_type": "code",
   "execution_count": 23,
   "metadata": {},
   "outputs": [
    {
     "data": {
      "text/plain": [
       "1601"
      ]
     },
     "execution_count": 23,
     "metadata": {},
     "output_type": "execute_result"
    }
   ],
   "source": [
    "class Octapi:\n",
    "    def __init__(self, lines) -> None:\n",
    "        self.octapi = []\n",
    "        self.parse(lines)\n",
    "\n",
    "    def parse(self, lines):\n",
    "        octapi = []\n",
    "        for line in lines:\n",
    "            octaline = []\n",
    "            if len(line) > 0:\n",
    "                octaline.append(0)  # Column padding\n",
    "                for energy in line:\n",
    "                    octaline.append(int(energy))\n",
    "                octaline.append(0)  # Column padding\n",
    "                octapi.append(octaline)\n",
    "\n",
    "        # Row padding\n",
    "        extra_row = [0 for _ in range(len(octapi[0]))]\n",
    "        octapi.insert(0, extra_row)\n",
    "        octapi.append(extra_row)\n",
    "        self.octapi = octapi\n",
    "\n",
    "    def iterate(self):\n",
    "        self.increment_energy_by_1()\n",
    "        explosions = self.increment_flash_adjacent()\n",
    "        return explosions\n",
    "\n",
    "    def increment_energy_by_1(self):\n",
    "        for octaline in self.octapi[1:-1]:\n",
    "            for j in range(1, len(octaline) - 1):\n",
    "                octaline[j] += 1\n",
    "\n",
    "    def increment_flash_adjacent(self):\n",
    "        cnt = 0\n",
    "        counted = []\n",
    "        while True:\n",
    "            previous = deepcopy(self.octapi)\n",
    "            for i in range(1, len(self.octapi) - 1):  # Considers padding\n",
    "                for j in range(1, len(self.octapi[i]) - 1):  # Also considers padding\n",
    "                    if previous[i][j] > 9 and (i, j) not in counted:\n",
    "                        for k in range(i - 1, i + 2):\n",
    "                            for l in range(j - 1, j + 2):\n",
    "                                self.octapi[k][l] += 1\n",
    "                        counted.append((i, j))\n",
    "            \n",
    "            if self.are_equal(previous, self.octapi):\n",
    "                break\n",
    "        \n",
    "        for i, j in counted:\n",
    "            self.octapi[i][j] = 0\n",
    "            cnt += 1\n",
    "\n",
    "        return cnt\n",
    "\n",
    "    def are_equal(self, a, b):\n",
    "        for i in range(len(a)):\n",
    "            for j in range(len(a[i])):\n",
    "                if a[i][j] != b[i][j]:\n",
    "                    return False\n",
    "        return True\n",
    "\n",
    "    def all_flashed(self):\n",
    "        cnt = 0\n",
    "        for i in range(1, len(self.octapi) - 1):\n",
    "            for j in range(1, len(self.octapi[i]) - 1):\n",
    "                cnt += self.octapi[i][j]\n",
    "        return cnt == 0\n",
    "\n",
    "\n",
    "model = Octapi(lines)\n",
    "cnt = 0\n",
    "for i in range(100):\n",
    "    cnt += model.iterate()\n",
    "\n",
    "cnt"
   ]
  },
  {
   "cell_type": "markdown",
   "metadata": {},
   "source": [
    "# Challenge 2: calculate when do all octapi flash at once for the first time"
   ]
  },
  {
   "cell_type": "code",
   "execution_count": 25,
   "metadata": {},
   "outputs": [
    {
     "name": "stdout",
     "output_type": "stream",
     "text": [
      "368\n"
     ]
    }
   ],
   "source": [
    "model = Octapi(lines)\n",
    "i = 0\n",
    "while True:\n",
    "    model.iterate()\n",
    "    i += 1\n",
    "    if model.all_flashed():\n",
    "        print(i)\n",
    "        break"
   ]
  }
 ],
 "metadata": {
  "interpreter": {
   "hash": "e7370f93d1d0cde622a1f8e1c04877d8463912d04d973331ad4851f04de6915a"
  },
  "kernelspec": {
   "display_name": "Python 3.9.9 64-bit",
   "language": "python",
   "name": "python3"
  },
  "language_info": {
   "codemirror_mode": {
    "name": "ipython",
    "version": 3
   },
   "file_extension": ".py",
   "mimetype": "text/x-python",
   "name": "python",
   "nbconvert_exporter": "python",
   "pygments_lexer": "ipython3",
   "version": "3.9.7"
  },
  "orig_nbformat": 4
 },
 "nbformat": 4,
 "nbformat_minor": 2
}
