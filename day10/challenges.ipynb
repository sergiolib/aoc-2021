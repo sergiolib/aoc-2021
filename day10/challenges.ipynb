{
 "cells": [
  {
   "cell_type": "markdown",
   "metadata": {},
   "source": [
    "# Challenge 1: find syntax errors in braces"
   ]
  },
  {
   "cell_type": "code",
   "execution_count": 1,
   "metadata": {},
   "outputs": [],
   "source": [
    "lines = open(\"input.txt\", \"r\").read().split(\"\\n\")"
   ]
  },
  {
   "cell_type": "code",
   "execution_count": 3,
   "metadata": {},
   "outputs": [],
   "source": [
    "match_map = {\n",
    "    \"(\": \")\",\n",
    "    \"[\": \"]\",\n",
    "    \"<\": \">\",\n",
    "    \"{\": \"}\"\n",
    "}"
   ]
  },
  {
   "cell_type": "code",
   "execution_count": 4,
   "metadata": {},
   "outputs": [],
   "source": [
    "score_table = {\n",
    "    \")\": 3,\n",
    "    \"]\": 57,\n",
    "    \"}\": 1197,\n",
    "    \">\": 25137\n",
    "}"
   ]
  },
  {
   "cell_type": "code",
   "execution_count": 9,
   "metadata": {},
   "outputs": [],
   "source": [
    "total_score = 0\n",
    "for l in lines:\n",
    "    stack = []\n",
    "    if len(l) > 0:\n",
    "        for c in l:\n",
    "            if c in [\"(\", \"[\", \"{\", \"<\"]:\n",
    "                stack.append(c)\n",
    "            else:\n",
    "                t = stack.pop()\n",
    "                if match_map[t] != c:\n",
    "                    total_score += score_table[c]\n",
    "                    break"
   ]
  },
  {
   "cell_type": "code",
   "execution_count": 10,
   "metadata": {},
   "outputs": [
    {
     "data": {
      "text/plain": [
       "399153"
      ]
     },
     "execution_count": 10,
     "metadata": {},
     "output_type": "execute_result"
    }
   ],
   "source": [
    "total_score"
   ]
  },
  {
   "cell_type": "markdown",
   "metadata": {},
   "source": [
    "# Challenge 2: Discard corrupted and complete the incomplete lines"
   ]
  },
  {
   "cell_type": "code",
   "execution_count": 19,
   "metadata": {},
   "outputs": [],
   "source": [
    "score_table = {\n",
    "    \")\": 1,\n",
    "    \"]\": 2,\n",
    "    \"}\": 3,\n",
    "    \">\": 4\n",
    "}"
   ]
  },
  {
   "cell_type": "code",
   "execution_count": 30,
   "metadata": {},
   "outputs": [],
   "source": [
    "scores = []\n",
    "for l in lines:\n",
    "    stack = []\n",
    "    if len(l) > 0:\n",
    "        line_score = 0\n",
    "        corrupt = False\n",
    "        for c in l:\n",
    "            if c in [\"(\", \"[\", \"{\", \"<\"]:\n",
    "                stack.append(c)\n",
    "            else:\n",
    "                t = stack.pop()\n",
    "                if match_map[t] != c:\n",
    "                    corrupt = True\n",
    "\n",
    "        if corrupt:\n",
    "            continue\n",
    "        \n",
    "        # Now, complete the imcomplete\n",
    "        while len(stack) > 0:\n",
    "            t = stack.pop()\n",
    "            next_char = match_map[t]\n",
    "            line_score *= 5\n",
    "            line_score += score_table[next_char]\n",
    "        scores.append(line_score)"
   ]
  },
  {
   "cell_type": "code",
   "execution_count": 31,
   "metadata": {},
   "outputs": [],
   "source": [
    "scores = sorted(scores)"
   ]
  },
  {
   "cell_type": "code",
   "execution_count": 32,
   "metadata": {},
   "outputs": [
    {
     "data": {
      "text/plain": [
       "2995077699"
      ]
     },
     "execution_count": 32,
     "metadata": {},
     "output_type": "execute_result"
    }
   ],
   "source": [
    "scores[(len(scores) - 1) // 2]"
   ]
  }
 ],
 "metadata": {
  "interpreter": {
   "hash": "02b53b3e00b8ac7272eaee5b376b05fde5bb7846099be56b25fd032617b840b6"
  },
  "kernelspec": {
   "display_name": "Python 3.9.7 64-bit ('advent': conda)",
   "language": "python",
   "name": "python3"
  },
  "language_info": {
   "codemirror_mode": {
    "name": "ipython",
    "version": 3
   },
   "file_extension": ".py",
   "mimetype": "text/x-python",
   "name": "python",
   "nbconvert_exporter": "python",
   "pygments_lexer": "ipython3",
   "version": "3.9.7"
  },
  "orig_nbformat": 4
 },
 "nbformat": 4,
 "nbformat_minor": 2
}
