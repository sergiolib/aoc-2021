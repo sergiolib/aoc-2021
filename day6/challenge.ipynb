{
 "cells": [
  {
   "cell_type": "markdown",
   "metadata": {},
   "source": [
    "# Calculate amount of lanternfish by the end of the period"
   ]
  },
  {
   "cell_type": "code",
   "execution_count": 1,
   "metadata": {},
   "outputs": [],
   "source": [
    "lines = open(\"input.txt\", \"r\").read().split(\"\\n\")"
   ]
  },
  {
   "cell_type": "code",
   "execution_count": 3,
   "metadata": {},
   "outputs": [],
   "source": [
    "initial_timers = []\n",
    "for l in lines:\n",
    "    if len(l) > 0:\n",
    "        initial_timers += list(map(int, l.split(\",\")))"
   ]
  },
  {
   "cell_type": "code",
   "execution_count": 28,
   "metadata": {},
   "outputs": [
    {
     "data": {
      "text/plain": [
       "300"
      ]
     },
     "execution_count": 28,
     "metadata": {},
     "output_type": "execute_result"
    }
   ],
   "source": [
    "len(initial_timers)"
   ]
  },
  {
   "cell_type": "code",
   "execution_count": 15,
   "metadata": {},
   "outputs": [
    {
     "data": {
      "text/plain": [
       "391888"
      ]
     },
     "execution_count": 15,
     "metadata": {},
     "output_type": "execute_result"
    }
   ],
   "source": [
    "RESET_TIMER = 6\n",
    "NEW_TIMER = 8\n",
    "\n",
    "class Lanternfish:\n",
    "    def __init__(self, timer=NEW_TIMER) -> None:\n",
    "        self.timer = timer\n",
    "\n",
    "    def __repr__(self) -> str:\n",
    "        return str(self.timer)\n",
    "\n",
    "\n",
    "class Sea:\n",
    "    def __init__(self, initial_timers=[]) -> None:\n",
    "        self.fish = [Lanternfish(timer) for timer in initial_timers]\n",
    "    \n",
    "    def tick(self):\n",
    "        for f in self.fish.copy():\n",
    "            if f.timer > 0:\n",
    "                f.timer -= 1\n",
    "            else:\n",
    "                f.timer = RESET_TIMER\n",
    "                self.fish.append(Lanternfish())\n",
    "        pass\n",
    "\n",
    "s = Sea(initial_timers)\n",
    "d = 80\n",
    "for _ in range(d):\n",
    "    s.tick()\n",
    "\n",
    "len(s.fish)"
   ]
  },
  {
   "cell_type": "markdown",
   "metadata": {},
   "source": [
    "# Calculate how many fish will there be at t=256"
   ]
  },
  {
   "cell_type": "code",
   "execution_count": 43,
   "metadata": {},
   "outputs": [
    {
     "data": {
      "text/plain": [
       "600"
      ]
     },
     "execution_count": 43,
     "metadata": {},
     "output_type": "execute_result"
    }
   ],
   "source": [
    "class Sea2:\n",
    "    def __init__(self, initial_timers=[]) -> None:\n",
    "        self.fish_in_the_sea = [0 for _ in range(9)]\n",
    "        for t in initial_timers:\n",
    "            self.fish_in_the_sea[t] += 1\n",
    "\n",
    "    def tick(self):\n",
    "        new_timers = [0 for _ in range(9)]\n",
    "        for i in range(1, 9):\n",
    "            new_timers[i-1] = self.fish_in_the_sea[i]\n",
    "        new_timers[8] += self.fish_in_the_sea[0]\n",
    "        new_timers[6] += self.fish_in_the_sea[0]\n",
    "        self.fish_in_the_sea[:] = new_timers\n",
    "\n",
    "    def num_fish(self):\n",
    "        return sum(self.fish_in_the_sea)\n",
    "\n",
    "    \n",
    "s = Sea2(initial_timers)\n",
    "d = 7\n",
    "for _ in range(d):\n",
    "    s.tick()\n",
    "\n",
    "s.num_fish()"
   ]
  },
  {
   "cell_type": "code",
   "execution_count": null,
   "metadata": {},
   "outputs": [],
   "source": []
  }
 ],
 "metadata": {
  "interpreter": {
   "hash": "e7370f93d1d0cde622a1f8e1c04877d8463912d04d973331ad4851f04de6915a"
  },
  "kernelspec": {
   "display_name": "Python 3.9.7 64-bit",
   "language": "python",
   "name": "python3"
  },
  "language_info": {
   "codemirror_mode": {
    "name": "ipython",
    "version": 3
   },
   "file_extension": ".py",
   "mimetype": "text/x-python",
   "name": "python",
   "nbconvert_exporter": "python",
   "pygments_lexer": "ipython3",
   "version": "3.9.7"
  },
  "orig_nbformat": 4
 },
 "nbformat": 4,
 "nbformat_minor": 2
}
